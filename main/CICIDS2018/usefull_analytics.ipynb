{
 "cells": [
  {
   "cell_type": "code",
   "execution_count": 52,
   "metadata": {},
   "outputs": [],
   "source": [
    "# imports\n",
    "import pickle\n",
    "import pandas as pd \n",
    "import numpy as np \n",
    "import seaborn as sns\n",
    "import matplotlib.pyplot as plt\n",
    "import os\n",
    "from imblearn.over_sampling import SMOTE \n",
    "\n",
    "from keras.models import Sequential, load_model\n",
    "from keras.layers import Dense, Activation\n",
    "from sklearn.model_selection import train_test_split, StratifiedShuffleSplit\n",
    "from sklearn.preprocessing import LabelEncoder\n",
    "from keras.utils.np_utils import to_categorical, normalize\n",
    "from sklearn.utils import shuffle\n",
    "from tensorflow.keras.callbacks import TensorBoard\n",
    "from timeit import default_timer as timer\n",
    "from tensorflow import keras\n",
    "from keras.layers import Conv2D, Conv1D, MaxPooling2D, MaxPooling1D, Flatten, BatchNormalization, Dense\n",
    "from keras.callbacks import CSVLogger, ModelCheckpoint\n",
    "import tensorflow as tf\n",
    "# define colors (for readable prints)\n",
    "class bcolors:\n",
    "    HEADER = '\\033[95m'\n",
    "    OKBLUE = '\\033[94m'\n",
    "    OKCYAN = '\\033[96m'\n",
    "    OKGREEN = '\\033[92m'\n",
    "    WARNING = '\\033[93m'\n",
    "    FAIL = '\\033[91m'\n",
    "    ENDC = '\\033[0m'\n",
    "    BOLD = '\\033[1m'\n",
    "    UNDERLINE = '\\033[4m'\n",
    "\n",
    "#helper functions\n",
    "def clean_column(column):\n",
    "    column = column.strip(' ')\n",
    "    column = column.replace('/', '_')\n",
    "    column = column.replace(' ', '_')\n",
    "    column = column.lower()\n",
    "    return column\n",
    "\n",
    "#define paths\n",
    "ROOT_DIR = \"C:/Users/jureb/Desktop/ml_testing/\"\n",
    "DATASET_DIR = ROOT_DIR + 'datasets/'\n",
    "MODEL_DIR = ROOT_DIR + 'saved_models/'\n",
    "DATASET_NAME = 'CICIDS2018'\n",
    "PICKLE_DIR = DATASET_DIR + DATASET_NAME + '/'"
   ]
  },
  {
   "cell_type": "code",
   "execution_count": 53,
   "metadata": {},
   "outputs": [
    {
     "name": "stdout",
     "output_type": "stream",
     "text": [
      "\u001b[93mLoading pickle\u001b[0m\n"
     ]
    }
   ],
   "source": [
    "print(bcolors.WARNING + \"Loading pickle\" + bcolors.ENDC)\n",
    "with open(PICKLE_DIR + DATASET_NAME + '_optimized.pkl', 'rb') as f:\n",
    "    df = pickle.load(f)"
   ]
  },
  {
   "cell_type": "code",
   "execution_count": 54,
   "metadata": {},
   "outputs": [
    {
     "data": {
      "text/plain": [
       "Benign                   4664958\n",
       "DDOS attack-HOIC          686012\n",
       "FTP-BruteForce            193360\n",
       "SSH-Bruteforce            187589\n",
       "Infilteration              68871\n",
       "DoS attacks-GoldenEye      41508\n",
       "DoS attacks-Slowloris      10990\n",
       "DDOS attack-LOIC-UDP        1730\n",
       "Brute Force -Web             611\n",
       "Brute Force -XSS             230\n",
       "SQL Injection                 87\n",
       "Name: Label, dtype: int64"
      ]
     },
     "execution_count": 54,
     "metadata": {},
     "output_type": "execute_result"
    }
   ],
   "source": [
    "df['Label'].value_counts()"
   ]
  },
  {
   "cell_type": "code",
   "execution_count": 55,
   "metadata": {},
   "outputs": [
    {
     "data": {
      "image/png": "[encoded data removed]",
      "text/plain": [
       "<Figure size 864x432 with 1 Axes>"
      ]
     },
     "metadata": {},
     "output_type": "display_data"
    }
   ],
   "source": [
    "# make a plot number of labels\n",
    "sns.set(rc={'figure.figsize':(12, 6)})\n",
    "plt.xlabel('Attack Type')\n",
    "sns.set_theme()\n",
    "ax = sns.countplot(x='Label', data=df)\n",
    "ax.set(xlabel='Attack Type', ylabel='Number of Attacks')\n",
    "plt.show()"
   ]
  },
  {
   "cell_type": "code",
   "execution_count": 56,
   "metadata": {},
   "outputs": [
    {
     "data": {
      "text/plain": [
       "18562"
      ]
     },
     "execution_count": 56,
     "metadata": {},
     "output_type": "execute_result"
    }
   ],
   "source": [
    "#df.isna().sum().to_numpy()\n",
    "df.isna().sum().sum()"
   ]
  },
  {
   "cell_type": "code",
   "execution_count": 57,
   "metadata": {},
   "outputs": [
    {
     "data": {
      "text/plain": [
       "0"
      ]
     },
     "execution_count": 57,
     "metadata": {},
     "output_type": "execute_result"
    }
   ],
   "source": [
    "df = df.dropna()\n",
    "df.isna().sum().sum()"
   ]
  },
  {
   "cell_type": "code",
   "execution_count": 58,
   "metadata": {},
   "outputs": [
    {
     "name": "stdout",
     "output_type": "stream",
     "text": [
      "<class 'pandas.core.frame.DataFrame'>\n",
      "Int64Index: 5837384 entries, 0 to 613070\n",
      "Data columns (total 79 columns):\n",
      " #   Column             Dtype  \n",
      "---  ------             -----  \n",
      " 0   Dst Port           int32  \n",
      " 1   Protocol           int8   \n",
      " 2   Flow Duration      int64  \n",
      " 3   Tot Fwd Pkts       int16  \n",
      " 4   Tot Bwd Pkts       int16  \n",
      " 5   TotLen Fwd Pkts    int32  \n",
      " 6   TotLen Bwd Pkts    int32  \n",
      " 7   Fwd Pkt Len Max    int32  \n",
      " 8   Fwd Pkt Len Min    int32  \n",
      " 9   Fwd Pkt Len Mean   float64\n",
      " 10  Fwd Pkt Len Std    float64\n",
      " 11  Bwd Pkt Len Max    int16  \n",
      " 12  Bwd Pkt Len Min    int16  \n",
      " 13  Bwd Pkt Len Mean   float64\n",
      " 14  Bwd Pkt Len Std    float64\n",
      " 15  Flow Byts/s        float64\n",
      " 16  Flow Pkts/s        float64\n",
      " 17  Flow IAT Mean      float64\n",
      " 18  Flow IAT Std       float64\n",
      " 19  Flow IAT Max       int64  \n",
      " 20  Flow IAT Min       int32  \n",
      " 21  Fwd IAT Tot        int32  \n",
      " 22  Fwd IAT Mean       float32\n",
      " 23  Fwd IAT Std        float64\n",
      " 24  Fwd IAT Max        int32  \n",
      " 25  Fwd IAT Min        int32  \n",
      " 26  Bwd IAT Tot        int32  \n",
      " 27  Bwd IAT Mean       float64\n",
      " 28  Bwd IAT Std        float64\n",
      " 29  Bwd IAT Max        int64  \n",
      " 30  Bwd IAT Min        int64  \n",
      " 31  Fwd PSH Flags      int8   \n",
      " 32  Bwd PSH Flags      int8   \n",
      " 33  Fwd URG Flags      int8   \n",
      " 34  Bwd URG Flags      int8   \n",
      " 35  Fwd Header Len     int32  \n",
      " 36  Bwd Header Len     int32  \n",
      " 37  Fwd Pkts/s         float64\n",
      " 38  Bwd Pkts/s         float64\n",
      " 39  Pkt Len Min        int16  \n",
      " 40  Pkt Len Max        int32  \n",
      " 41  Pkt Len Mean       float64\n",
      " 42  Pkt Len Std        float64\n",
      " 43  Pkt Len Var        float64\n",
      " 44  FIN Flag Cnt       int8   \n",
      " 45  SYN Flag Cnt       int8   \n",
      " 46  RST Flag Cnt       int8   \n",
      " 47  PSH Flag Cnt       int8   \n",
      " 48  ACK Flag Cnt       int8   \n",
      " 49  URG Flag Cnt       int8   \n",
      " 50  CWE Flag Count     int8   \n",
      " 51  ECE Flag Cnt       int8   \n",
      " 52  Down/Up Ratio      int64  \n",
      " 53  Pkt Size Avg       float32\n",
      " 54  Fwd Seg Size Avg   float32\n",
      " 55  Bwd Seg Size Avg   float32\n",
      " 56  Fwd Byts/b Avg     int8   \n",
      " 57  Fwd Pkts/b Avg     int8   \n",
      " 58  Fwd Blk Rate Avg   int8   \n",
      " 59  Bwd Byts/b Avg     int8   \n",
      " 60  Bwd Pkts/b Avg     int8   \n",
      " 61  Bwd Blk Rate Avg   int8   \n",
      " 62  Subflow Fwd Pkts   int16  \n",
      " 63  Subflow Fwd Byts   int32  \n",
      " 64  Subflow Bwd Pkts   int16  \n",
      " 65  Subflow Bwd Byts   int32  \n",
      " 66  Init Fwd Win Byts  int32  \n",
      " 67  Init Bwd Win Byts  int32  \n",
      " 68  Fwd Act Data Pkts  int16  \n",
      " 69  Fwd Seg Size Min   int8   \n",
      " 70  Active Mean        float64\n",
      " 71  Active Std         float64\n",
      " 72  Active Max         int32  \n",
      " 73  Active Min         int32  \n",
      " 74  Idle Mean          float64\n",
      " 75  Idle Std           float64\n",
      " 76  Idle Max           int64  \n",
      " 77  Idle Min           int64  \n",
      " 78  Label              object \n",
      "dtypes: float32(4), float64(20), int16(8), int32(19), int64(7), int8(20), object(1)\n",
      "memory usage: 2.0+ GB\n"
     ]
    }
   ],
   "source": [
    "df.info()"
   ]
  },
  {
   "cell_type": "code",
   "execution_count": 59,
   "metadata": {},
   "outputs": [
    {
     "name": "stdout",
     "output_type": "stream",
     "text": [
      "0    4646811\n",
      "1     687742\n",
      "3     381784\n",
      "4      68549\n",
      "2      52498\n",
      "Name: Label, dtype: int64\n"
     ]
    }
   ],
   "source": [
    "attack_group = {\n",
    "    'Benign': 0,\n",
    "    'DDOS attack-HOIC': 1,\n",
    "    'DDOS attack-LOIC-UDP': 1,\n",
    "    'DoS attacks-GoldenEye': 2,\n",
    "    'DoS attacks-Hulk': 2,\n",
    "    'DoS attacks-Slowloris': 2,\n",
    "    'DoS attacks-SlowHTTPTest': 2,\n",
    "    'FTP-BruteForce': 3,\n",
    "    'SSH-Bruteforce': 3,\n",
    "    'Brute Force -Web': 3,\n",
    "    'Brute Force -XSS': 3,\n",
    "    'SQL Injection': 4,\n",
    "    'Infilteration': 4,\n",
    "}\n",
    "#Benign = 1\n",
    "#DDoS = 2\n",
    "#DoS = 3\n",
    "#Bruteforce = 4\n",
    "#Infilteration = 5\n",
    "\n",
    "# Create grouped label column\n",
    "df['Label'] = df['Label'].map(lambda x: attack_group[x])\n",
    "print(df['Label'].value_counts())"
   ]
  },
  {
   "cell_type": "code",
   "execution_count": 60,
   "metadata": {},
   "outputs": [
    {
     "data": {
      "text/html": [
       "<div>\n",
       "<style scoped>\n",
       "    .dataframe tbody tr th:only-of-type {\n",
       "        vertical-align: middle;\n",
       "    }\n",
       "\n",
       "    .dataframe tbody tr th {\n",
       "        vertical-align: top;\n",
       "    }\n",
       "\n",
       "    .dataframe thead th {\n",
       "        text-align: right;\n",
       "    }\n",
       "</style>\n",
       "<table border=\"1\" class=\"dataframe\">\n",
       "  <thead>\n",
       "    <tr style=\"text-align: right;\">\n",
       "      <th></th>\n",
       "      <th>Dst Port</th>\n",
       "      <th>Protocol</th>\n",
       "      <th>Flow Duration</th>\n",
       "      <th>Tot Fwd Pkts</th>\n",
       "      <th>Tot Bwd Pkts</th>\n",
       "      <th>TotLen Fwd Pkts</th>\n",
       "      <th>TotLen Bwd Pkts</th>\n",
       "      <th>Fwd Pkt Len Max</th>\n",
       "      <th>Fwd Pkt Len Min</th>\n",
       "      <th>Fwd Pkt Len Mean</th>\n",
       "      <th>...</th>\n",
       "      <th>Fwd Seg Size Min</th>\n",
       "      <th>Active Mean</th>\n",
       "      <th>Active Std</th>\n",
       "      <th>Active Max</th>\n",
       "      <th>Active Min</th>\n",
       "      <th>Idle Mean</th>\n",
       "      <th>Idle Std</th>\n",
       "      <th>Idle Max</th>\n",
       "      <th>Idle Min</th>\n",
       "      <th>Label</th>\n",
       "    </tr>\n",
       "  </thead>\n",
       "  <tbody>\n",
       "    <tr>\n",
       "      <th>0</th>\n",
       "      <td>0</td>\n",
       "      <td>0</td>\n",
       "      <td>112641719</td>\n",
       "      <td>3</td>\n",
       "      <td>0</td>\n",
       "      <td>0</td>\n",
       "      <td>0</td>\n",
       "      <td>0</td>\n",
       "      <td>0</td>\n",
       "      <td>0.000000</td>\n",
       "      <td>...</td>\n",
       "      <td>0</td>\n",
       "      <td>0.0</td>\n",
       "      <td>0.0</td>\n",
       "      <td>0</td>\n",
       "      <td>0</td>\n",
       "      <td>56320859.5</td>\n",
       "      <td>139.300036</td>\n",
       "      <td>56320958</td>\n",
       "      <td>56320761</td>\n",
       "      <td>0</td>\n",
       "    </tr>\n",
       "    <tr>\n",
       "      <th>1</th>\n",
       "      <td>0</td>\n",
       "      <td>0</td>\n",
       "      <td>112641466</td>\n",
       "      <td>3</td>\n",
       "      <td>0</td>\n",
       "      <td>0</td>\n",
       "      <td>0</td>\n",
       "      <td>0</td>\n",
       "      <td>0</td>\n",
       "      <td>0.000000</td>\n",
       "      <td>...</td>\n",
       "      <td>0</td>\n",
       "      <td>0.0</td>\n",
       "      <td>0.0</td>\n",
       "      <td>0</td>\n",
       "      <td>0</td>\n",
       "      <td>56320733.0</td>\n",
       "      <td>114.551299</td>\n",
       "      <td>56320814</td>\n",
       "      <td>56320652</td>\n",
       "      <td>0</td>\n",
       "    </tr>\n",
       "    <tr>\n",
       "      <th>2</th>\n",
       "      <td>0</td>\n",
       "      <td>0</td>\n",
       "      <td>112638623</td>\n",
       "      <td>3</td>\n",
       "      <td>0</td>\n",
       "      <td>0</td>\n",
       "      <td>0</td>\n",
       "      <td>0</td>\n",
       "      <td>0</td>\n",
       "      <td>0.000000</td>\n",
       "      <td>...</td>\n",
       "      <td>0</td>\n",
       "      <td>0.0</td>\n",
       "      <td>0.0</td>\n",
       "      <td>0</td>\n",
       "      <td>0</td>\n",
       "      <td>56319311.5</td>\n",
       "      <td>301.934596</td>\n",
       "      <td>56319525</td>\n",
       "      <td>56319098</td>\n",
       "      <td>0</td>\n",
       "    </tr>\n",
       "    <tr>\n",
       "      <th>3</th>\n",
       "      <td>22</td>\n",
       "      <td>6</td>\n",
       "      <td>6453966</td>\n",
       "      <td>15</td>\n",
       "      <td>10</td>\n",
       "      <td>1239</td>\n",
       "      <td>2273</td>\n",
       "      <td>744</td>\n",
       "      <td>0</td>\n",
       "      <td>82.600000</td>\n",
       "      <td>...</td>\n",
       "      <td>32</td>\n",
       "      <td>0.0</td>\n",
       "      <td>0.0</td>\n",
       "      <td>0</td>\n",
       "      <td>0</td>\n",
       "      <td>0.0</td>\n",
       "      <td>0.000000</td>\n",
       "      <td>0</td>\n",
       "      <td>0</td>\n",
       "      <td>0</td>\n",
       "    </tr>\n",
       "    <tr>\n",
       "      <th>4</th>\n",
       "      <td>22</td>\n",
       "      <td>6</td>\n",
       "      <td>8804066</td>\n",
       "      <td>14</td>\n",
       "      <td>11</td>\n",
       "      <td>1143</td>\n",
       "      <td>2209</td>\n",
       "      <td>744</td>\n",
       "      <td>0</td>\n",
       "      <td>81.642857</td>\n",
       "      <td>...</td>\n",
       "      <td>32</td>\n",
       "      <td>0.0</td>\n",
       "      <td>0.0</td>\n",
       "      <td>0</td>\n",
       "      <td>0</td>\n",
       "      <td>0.0</td>\n",
       "      <td>0.000000</td>\n",
       "      <td>0</td>\n",
       "      <td>0</td>\n",
       "      <td>0</td>\n",
       "    </tr>\n",
       "  </tbody>\n",
       "</table>\n",
       "<p>5 rows × 79 columns</p>\n",
       "</div>"
      ],
      "text/plain": [
       "   Dst Port  Protocol  Flow Duration  Tot Fwd Pkts  Tot Bwd Pkts  \\\n",
       "0         0         0      112641719             3             0   \n",
       "1         0         0      112641466             3             0   \n",
       "2         0         0      112638623             3             0   \n",
       "3        22         6        6453966            15            10   \n",
       "4        22         6        8804066            14            11   \n",
       "\n",
       "   TotLen Fwd Pkts  TotLen Bwd Pkts  Fwd Pkt Len Max  Fwd Pkt Len Min  \\\n",
       "0                0                0                0                0   \n",
       "1                0                0                0                0   \n",
       "2                0                0                0                0   \n",
       "3             1239             2273              744                0   \n",
       "4             1143             2209              744                0   \n",
       "\n",
       "   Fwd Pkt Len Mean  ...  Fwd Seg Size Min  Active Mean  Active Std  \\\n",
       "0          0.000000  ...                 0          0.0         0.0   \n",
       "1          0.000000  ...                 0          0.0         0.0   \n",
       "2          0.000000  ...                 0          0.0         0.0   \n",
       "3         82.600000  ...                32          0.0         0.0   \n",
       "4         81.642857  ...                32          0.0         0.0   \n",
       "\n",
       "   Active Max  Active Min   Idle Mean    Idle Std  Idle Max  Idle Min  Label  \n",
       "0           0           0  56320859.5  139.300036  56320958  56320761      0  \n",
       "1           0           0  56320733.0  114.551299  56320814  56320652      0  \n",
       "2           0           0  56319311.5  301.934596  56319525  56319098      0  \n",
       "3           0           0         0.0    0.000000         0         0      0  \n",
       "4           0           0         0.0    0.000000         0         0      0  \n",
       "\n",
       "[5 rows x 79 columns]"
      ]
     },
     "execution_count": 60,
     "metadata": {},
     "output_type": "execute_result"
    }
   ],
   "source": [
    "df.head()"
   ]
  },
  {
   "cell_type": "code",
   "execution_count": 61,
   "metadata": {},
   "outputs": [
    {
     "data": {
      "text/plain": [
       "21552"
      ]
     },
     "execution_count": 61,
     "metadata": {},
     "output_type": "execute_result"
    }
   ],
   "source": [
    "df = df.replace([np.inf, -np.inf], np.nan)\n",
    "df.isna().sum().sum()"
   ]
  },
  {
   "cell_type": "code",
   "execution_count": 62,
   "metadata": {},
   "outputs": [
    {
     "data": {
      "text/plain": [
       "0"
      ]
     },
     "execution_count": 62,
     "metadata": {},
     "output_type": "execute_result"
    }
   ],
   "source": [
    "df = df.dropna()\n",
    "df.isna().sum().sum()"
   ]
  },
  {
   "cell_type": "code",
   "execution_count": 63,
   "metadata": {},
   "outputs": [],
   "source": [
    "benign = df[df['Label'] == 0][:200000]\n",
    "ddos = df[df['Label'] == 1][:200000]\n",
    "dos = df[df['Label'] == 2][:200000]\n",
    "bruteforce = df[df['Label'] == 3][:200000]\n",
    "infilteration = df[df['Label'] == 4][:200000]"
   ]
  },
  {
   "cell_type": "code",
   "execution_count": 64,
   "metadata": {},
   "outputs": [
    {
     "data": {
      "text/plain": [
       "0    200000\n",
       "1    200000\n",
       "3    200000\n",
       "4     68323\n",
       "2     52498\n",
       "Name: Label, dtype: int64"
      ]
     },
     "execution_count": 64,
     "metadata": {},
     "output_type": "execute_result"
    }
   ],
   "source": [
    "merge = [\n",
    "    benign, ddos, dos, bruteforce, infilteration\n",
    "]\n",
    "df = pd.concat(merge)\n",
    "del merge\n",
    "df['Label'].value_counts()"
   ]
  },
  {
   "cell_type": "code",
   "execution_count": 65,
   "metadata": {},
   "outputs": [],
   "source": [
    "from imblearn.over_sampling import SMOTE \n",
    "sm = SMOTE(random_state=42)\n",
    "X_res, y_res = sm.fit_resample(df.drop('Label', axis=1), df['Label'])"
   ]
  },
  {
   "cell_type": "code",
   "execution_count": 66,
   "metadata": {},
   "outputs": [
    {
     "name": "stdout",
     "output_type": "stream",
     "text": [
      "<class 'pandas.core.frame.DataFrame'>\n",
      "RangeIndex: 1000000 entries, 0 to 999999\n",
      "Data columns (total 78 columns):\n",
      " #   Column             Non-Null Count    Dtype  \n",
      "---  ------             --------------    -----  \n",
      " 0   Dst Port           1000000 non-null  int32  \n",
      " 1   Protocol           1000000 non-null  int8   \n",
      " 2   Flow Duration      1000000 non-null  int64  \n",
      " 3   Tot Fwd Pkts       1000000 non-null  int16  \n",
      " 4   Tot Bwd Pkts       1000000 non-null  int16  \n",
      " 5   TotLen Fwd Pkts    1000000 non-null  int32  \n",
      " 6   TotLen Bwd Pkts    1000000 non-null  int32  \n",
      " 7   Fwd Pkt Len Max    1000000 non-null  int32  \n",
      " 8   Fwd Pkt Len Min    1000000 non-null  int32  \n",
      " 9   Fwd Pkt Len Mean   1000000 non-null  float64\n",
      " 10  Fwd Pkt Len Std    1000000 non-null  float64\n",
      " 11  Bwd Pkt Len Max    1000000 non-null  int16  \n",
      " 12  Bwd Pkt Len Min    1000000 non-null  int16  \n",
      " 13  Bwd Pkt Len Mean   1000000 non-null  float64\n",
      " 14  Bwd Pkt Len Std    1000000 non-null  float64\n",
      " 15  Flow Byts/s        1000000 non-null  float64\n",
      " 16  Flow Pkts/s        1000000 non-null  float64\n",
      " 17  Flow IAT Mean      1000000 non-null  float64\n",
      " 18  Flow IAT Std       1000000 non-null  float64\n",
      " 19  Flow IAT Max       1000000 non-null  int64  \n",
      " 20  Flow IAT Min       1000000 non-null  int32  \n",
      " 21  Fwd IAT Tot        1000000 non-null  int32  \n",
      " 22  Fwd IAT Mean       1000000 non-null  float32\n",
      " 23  Fwd IAT Std        1000000 non-null  float64\n",
      " 24  Fwd IAT Max        1000000 non-null  int32  \n",
      " 25  Fwd IAT Min        1000000 non-null  int32  \n",
      " 26  Bwd IAT Tot        1000000 non-null  int32  \n",
      " 27  Bwd IAT Mean       1000000 non-null  float64\n",
      " 28  Bwd IAT Std        1000000 non-null  float64\n",
      " 29  Bwd IAT Max        1000000 non-null  int64  \n",
      " 30  Bwd IAT Min        1000000 non-null  int64  \n",
      " 31  Fwd PSH Flags      1000000 non-null  int8   \n",
      " 32  Bwd PSH Flags      1000000 non-null  int8   \n",
      " 33  Fwd URG Flags      1000000 non-null  int8   \n",
      " 34  Bwd URG Flags      1000000 non-null  int8   \n",
      " 35  Fwd Header Len     1000000 non-null  int32  \n",
      " 36  Bwd Header Len     1000000 non-null  int32  \n",
      " 37  Fwd Pkts/s         1000000 non-null  float64\n",
      " 38  Bwd Pkts/s         1000000 non-null  float64\n",
      " 39  Pkt Len Min        1000000 non-null  int16  \n",
      " 40  Pkt Len Max        1000000 non-null  int32  \n",
      " 41  Pkt Len Mean       1000000 non-null  float64\n",
      " 42  Pkt Len Std        1000000 non-null  float64\n",
      " 43  Pkt Len Var        1000000 non-null  float64\n",
      " 44  FIN Flag Cnt       1000000 non-null  int8   \n",
      " 45  SYN Flag Cnt       1000000 non-null  int8   \n",
      " 46  RST Flag Cnt       1000000 non-null  int8   \n",
      " 47  PSH Flag Cnt       1000000 non-null  int8   \n",
      " 48  ACK Flag Cnt       1000000 non-null  int8   \n",
      " 49  URG Flag Cnt       1000000 non-null  int8   \n",
      " 50  CWE Flag Count     1000000 non-null  int8   \n",
      " 51  ECE Flag Cnt       1000000 non-null  int8   \n",
      " 52  Down/Up Ratio      1000000 non-null  int64  \n",
      " 53  Pkt Size Avg       1000000 non-null  float32\n",
      " 54  Fwd Seg Size Avg   1000000 non-null  float32\n",
      " 55  Bwd Seg Size Avg   1000000 non-null  float32\n",
      " 56  Fwd Byts/b Avg     1000000 non-null  int8   \n",
      " 57  Fwd Pkts/b Avg     1000000 non-null  int8   \n",
      " 58  Fwd Blk Rate Avg   1000000 non-null  int8   \n",
      " 59  Bwd Byts/b Avg     1000000 non-null  int8   \n",
      " 60  Bwd Pkts/b Avg     1000000 non-null  int8   \n",
      " 61  Bwd Blk Rate Avg   1000000 non-null  int8   \n",
      " 62  Subflow Fwd Pkts   1000000 non-null  int16  \n",
      " 63  Subflow Fwd Byts   1000000 non-null  int32  \n",
      " 64  Subflow Bwd Pkts   1000000 non-null  int16  \n",
      " 65  Subflow Bwd Byts   1000000 non-null  int32  \n",
      " 66  Init Fwd Win Byts  1000000 non-null  int32  \n",
      " 67  Init Bwd Win Byts  1000000 non-null  int32  \n",
      " 68  Fwd Act Data Pkts  1000000 non-null  int16  \n",
      " 69  Fwd Seg Size Min   1000000 non-null  int8   \n",
      " 70  Active Mean        1000000 non-null  float64\n",
      " 71  Active Std         1000000 non-null  float64\n",
      " 72  Active Max         1000000 non-null  int32  \n",
      " 73  Active Min         1000000 non-null  int32  \n",
      " 74  Idle Mean          1000000 non-null  float64\n",
      " 75  Idle Std           1000000 non-null  float64\n",
      " 76  Idle Max           1000000 non-null  int64  \n",
      " 77  Idle Min           1000000 non-null  int64  \n",
      "dtypes: float32(4), float64(20), int16(8), int32(19), int64(7), int8(20)\n",
      "memory usage: 328.1 MB\n"
     ]
    }
   ],
   "source": [
    "X_res.info()"
   ]
  },
  {
   "cell_type": "code",
   "execution_count": 67,
   "metadata": {},
   "outputs": [],
   "source": [
    "sampled_df = X_res.insert(78, 'Label', y_res)"
   ]
  },
  {
   "cell_type": "code",
   "execution_count": 68,
   "metadata": {},
   "outputs": [],
   "source": [
    "df_final = X_res.copy()"
   ]
  },
  {
   "cell_type": "code",
   "execution_count": 69,
   "metadata": {},
   "outputs": [
    {
     "name": "stdout",
     "output_type": "stream",
     "text": [
      "<class 'pandas.core.frame.DataFrame'>\n",
      "RangeIndex: 1000000 entries, 0 to 999999\n",
      "Data columns (total 79 columns):\n",
      " #   Column             Non-Null Count    Dtype  \n",
      "---  ------             --------------    -----  \n",
      " 0   Dst Port           1000000 non-null  int32  \n",
      " 1   Protocol           1000000 non-null  int8   \n",
      " 2   Flow Duration      1000000 non-null  int64  \n",
      " 3   Tot Fwd Pkts       1000000 non-null  int16  \n",
      " 4   Tot Bwd Pkts       1000000 non-null  int16  \n",
      " 5   TotLen Fwd Pkts    1000000 non-null  int32  \n",
      " 6   TotLen Bwd Pkts    1000000 non-null  int32  \n",
      " 7   Fwd Pkt Len Max    1000000 non-null  int32  \n",
      " 8   Fwd Pkt Len Min    1000000 non-null  int32  \n",
      " 9   Fwd Pkt Len Mean   1000000 non-null  float64\n",
      " 10  Fwd Pkt Len Std    1000000 non-null  float64\n",
      " 11  Bwd Pkt Len Max    1000000 non-null  int16  \n",
      " 12  Bwd Pkt Len Min    1000000 non-null  int16  \n",
      " 13  Bwd Pkt Len Mean   1000000 non-null  float64\n",
      " 14  Bwd Pkt Len Std    1000000 non-null  float64\n",
      " 15  Flow Byts/s        1000000 non-null  float64\n",
      " 16  Flow Pkts/s        1000000 non-null  float64\n",
      " 17  Flow IAT Mean      1000000 non-null  float64\n",
      " 18  Flow IAT Std       1000000 non-null  float64\n",
      " 19  Flow IAT Max       1000000 non-null  int64  \n",
      " 20  Flow IAT Min       1000000 non-null  int32  \n",
      " 21  Fwd IAT Tot        1000000 non-null  int32  \n",
      " 22  Fwd IAT Mean       1000000 non-null  float32\n",
      " 23  Fwd IAT Std        1000000 non-null  float64\n",
      " 24  Fwd IAT Max        1000000 non-null  int32  \n",
      " 25  Fwd IAT Min        1000000 non-null  int32  \n",
      " 26  Bwd IAT Tot        1000000 non-null  int32  \n",
      " 27  Bwd IAT Mean       1000000 non-null  float64\n",
      " 28  Bwd IAT Std        1000000 non-null  float64\n",
      " 29  Bwd IAT Max        1000000 non-null  int64  \n",
      " 30  Bwd IAT Min        1000000 non-null  int64  \n",
      " 31  Fwd PSH Flags      1000000 non-null  int8   \n",
      " 32  Bwd PSH Flags      1000000 non-null  int8   \n",
      " 33  Fwd URG Flags      1000000 non-null  int8   \n",
      " 34  Bwd URG Flags      1000000 non-null  int8   \n",
      " 35  Fwd Header Len     1000000 non-null  int32  \n",
      " 36  Bwd Header Len     1000000 non-null  int32  \n",
      " 37  Fwd Pkts/s         1000000 non-null  float64\n",
      " 38  Bwd Pkts/s         1000000 non-null  float64\n",
      " 39  Pkt Len Min        1000000 non-null  int16  \n",
      " 40  Pkt Len Max        1000000 non-null  int32  \n",
      " 41  Pkt Len Mean       1000000 non-null  float64\n",
      " 42  Pkt Len Std        1000000 non-null  float64\n",
      " 43  Pkt Len Var        1000000 non-null  float64\n",
      " 44  FIN Flag Cnt       1000000 non-null  int8   \n",
      " 45  SYN Flag Cnt       1000000 non-null  int8   \n",
      " 46  RST Flag Cnt       1000000 non-null  int8   \n",
      " 47  PSH Flag Cnt       1000000 non-null  int8   \n",
      " 48  ACK Flag Cnt       1000000 non-null  int8   \n",
      " 49  URG Flag Cnt       1000000 non-null  int8   \n",
      " 50  CWE Flag Count     1000000 non-null  int8   \n",
      " 51  ECE Flag Cnt       1000000 non-null  int8   \n",
      " 52  Down/Up Ratio      1000000 non-null  int64  \n",
      " 53  Pkt Size Avg       1000000 non-null  float32\n",
      " 54  Fwd Seg Size Avg   1000000 non-null  float32\n",
      " 55  Bwd Seg Size Avg   1000000 non-null  float32\n",
      " 56  Fwd Byts/b Avg     1000000 non-null  int8   \n",
      " 57  Fwd Pkts/b Avg     1000000 non-null  int8   \n",
      " 58  Fwd Blk Rate Avg   1000000 non-null  int8   \n",
      " 59  Bwd Byts/b Avg     1000000 non-null  int8   \n",
      " 60  Bwd Pkts/b Avg     1000000 non-null  int8   \n",
      " 61  Bwd Blk Rate Avg   1000000 non-null  int8   \n",
      " 62  Subflow Fwd Pkts   1000000 non-null  int16  \n",
      " 63  Subflow Fwd Byts   1000000 non-null  int32  \n",
      " 64  Subflow Bwd Pkts   1000000 non-null  int16  \n",
      " 65  Subflow Bwd Byts   1000000 non-null  int32  \n",
      " 66  Init Fwd Win Byts  1000000 non-null  int32  \n",
      " 67  Init Bwd Win Byts  1000000 non-null  int32  \n",
      " 68  Fwd Act Data Pkts  1000000 non-null  int16  \n",
      " 69  Fwd Seg Size Min   1000000 non-null  int8   \n",
      " 70  Active Mean        1000000 non-null  float64\n",
      " 71  Active Std         1000000 non-null  float64\n",
      " 72  Active Max         1000000 non-null  int32  \n",
      " 73  Active Min         1000000 non-null  int32  \n",
      " 74  Idle Mean          1000000 non-null  float64\n",
      " 75  Idle Std           1000000 non-null  float64\n",
      " 76  Idle Max           1000000 non-null  int64  \n",
      " 77  Idle Min           1000000 non-null  int64  \n",
      " 78  Label              1000000 non-null  int64  \n",
      "dtypes: float32(4), float64(20), int16(8), int32(19), int64(8), int8(20)\n",
      "memory usage: 335.7 MB\n"
     ]
    }
   ],
   "source": [
    "df_final.info()"
   ]
  },
  {
   "cell_type": "code",
   "execution_count": 70,
   "metadata": {},
   "outputs": [
    {
     "name": "stdout",
     "output_type": "stream",
     "text": [
      "\u001b[93mSaving as pickle\u001b[0m\n"
     ]
    }
   ],
   "source": [
    "print(bcolors.WARNING + \"Saving as pickle\" + bcolors.ENDC)\n",
    "with open(PICKLE_DIR + DATASET_NAME + '_optimized_final.pkl', 'wb') as f:\n",
    "    pickle.dump(df_final, f)"
   ]
  }
 ],
 "metadata": {
  "kernelspec": {
   "display_name": "Python 3.8.5 64-bit",
   "language": "python",
   "name": "python3"
  },
  "language_info": {
   "codemirror_mode": {
    "name": "ipython",
    "version": 3
   },
   "file_extension": ".py",
   "mimetype": "text/x-python",
   "name": "python",
   "nbconvert_exporter": "python",
   "pygments_lexer": "ipython3",
   "version": "3.8.5"
  },
  "orig_nbformat": 4,
  "vscode": {
   "interpreter": {
    "hash": "939480ed579cbcc9bd95c0bb2f0a271d068ec362d36f1415ed941c7dadb52340"
   }
  }
 },
 "nbformat": 4,
 "nbformat_minor": 2
}
